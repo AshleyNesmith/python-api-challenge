{
 "cells": [
  {
   "cell_type": "markdown",
   "metadata": {},
   "source": [
    "# WeatherPy\n",
    "----\n",
    "\n",
    "#### Note\n",
    "* Instructions have been included for each segment. You do not have to follow them exactly, but they are included to help you think through the steps."
   ]
  },
  {
   "cell_type": "code",
   "execution_count": 2,
   "metadata": {
    "scrolled": true
   },
   "outputs": [],
   "source": [
    "# Dependencies and Setup\n",
    "import matplotlib.pyplot as plt\n",
    "import pandas as pd\n",
    "import numpy as np\n",
    "import requests\n",
    "import time\n",
    "import json\n",
    "import scipy.stats as st\n",
    "from scipy.stats import linregress\n",
    "\n",
    "# Import API key\n",
    "from api_keys import weather_api_key\n",
    "\n",
    "# Incorporated citipy to determine city based on latitude and longitude\n",
    "from citipy import citipy\n",
    "\n",
    "# Output File (CSV)\n",
    "output_data_file = \"output_data/cities.csv\"\n",
    "\n",
    "# Range of latitudes and longitudes\n",
    "lat_range = (-90, 90)\n",
    "lng_range = (-180, 180)"
   ]
  },
  {
   "cell_type": "markdown",
   "metadata": {},
   "source": [
    "## Generate Cities List"
   ]
  },
  {
   "cell_type": "code",
   "execution_count": 3,
   "metadata": {},
   "outputs": [
    {
     "data": {
      "text/plain": [
       "620"
      ]
     },
     "execution_count": 3,
     "metadata": {},
     "output_type": "execute_result"
    }
   ],
   "source": [
    "# List for holding lat_lngs and cities\n",
    "lat_lngs = []\n",
    "cities = []\n",
    "\n",
    "# Create a set of random lat and lng combinations\n",
    "lats = np.random.uniform(low=-90.000, high=90.000, size=1500)\n",
    "lngs = np.random.uniform(low=-180.000, high=180.000, size=1500)\n",
    "lat_lngs = zip(lats, lngs)\n",
    "\n",
    "# Identify nearest city for each lat, lng combination\n",
    "for lat_lng in lat_lngs:\n",
    "    city = citipy.nearest_city(lat_lng[0], lat_lng[1]).city_name\n",
    "    \n",
    "    # If the city is unique, then add it to a our cities list\n",
    "    if city not in cities:\n",
    "        cities.append(city)\n",
    "\n",
    "# Print the city count to confirm sufficient count\n",
    "len(cities)"
   ]
  },
  {
   "cell_type": "code",
   "execution_count": 4,
   "metadata": {},
   "outputs": [],
   "source": [
    "city_name_list = []\n",
    "cloudiness_list = []\n",
    "country_list = []\n",
    "date_list = []\n",
    "humidity_list = []\n",
    "lat_list = []\n",
    "lng_list = []\n",
    "max_temp_list = []\n",
    "wind_speed_list = []\n",
    "index_counter = 0\n",
    "set_counter = 1"
   ]
  },
  {
   "cell_type": "markdown",
   "metadata": {},
   "source": [
    "### Perform API Calls\n",
    "* Perform a weather check on each city using a series of successive API calls.\n",
    "* Include a print log of each city as it'sbeing processed (with the city number and city name).\n"
   ]
  },
  {
   "cell_type": "code",
   "execution_count": 31,
   "metadata": {},
   "outputs": [
    {
     "name": "stdout",
     "output_type": "stream",
     "text": [
      "Beginning Data Retrieval \n",
      "-----------------------------\n",
      "Processing Record 1 of Set 1 : codrington\n",
      "Processing Record 2 of Set 1 : cabo san lucas\n",
      "Processing Record 3 of Set 1 : tuktoyaktuk\n",
      "Processing Record 4 of Set 1 : kaitangata\n",
      "City not found. Skipping...\n",
      "Processing Record 5 of Set 1 : kudahuvadhoo\n",
      "Processing Record 6 of Set 1 : thinadhoo\n",
      "Processing Record 7 of Set 1 : bonthe\n",
      "Processing Record 8 of Set 1 : mastic beach\n",
      "Processing Record 9 of Set 1 : rikitea\n",
      "Processing Record 10 of Set 1 : bluff\n",
      "Processing Record 11 of Set 1 : chernyshevskiy\n",
      "Processing Record 12 of Set 1 : dikson\n",
      "Processing Record 13 of Set 1 : busselton\n",
      "Processing Record 14 of Set 1 : upernavik\n",
      "Processing Record 15 of Set 1 : albany\n",
      "Processing Record 16 of Set 1 : la ronge\n",
      "Processing Record 17 of Set 1 : ponta do sol\n",
      "City not found. Skipping...\n",
      "Processing Record 18 of Set 1 : egvekinot\n",
      "Processing Record 19 of Set 1 : adre\n",
      "Processing Record 20 of Set 1 : bredasdorp\n",
      "Processing Record 21 of Set 1 : milyutinskaya\n",
      "Processing Record 22 of Set 1 : ushuaia\n",
      "Processing Record 23 of Set 1 : arlit\n",
      "City not found. Skipping...\n",
      "Processing Record 24 of Set 1 : hambantota\n",
      "Processing Record 25 of Set 1 : trairi\n",
      "Processing Record 26 of Set 1 : punta arenas\n",
      "Processing Record 27 of Set 1 : okha\n",
      "Processing Record 28 of Set 1 : karratha\n",
      "Processing Record 29 of Set 1 : taoudenni\n",
      "Processing Record 30 of Set 1 : lugovoy\n",
      "Processing Record 31 of Set 1 : goderich\n",
      "Processing Record 32 of Set 1 : kapaa\n",
      "Processing Record 33 of Set 1 : qaqortoq\n",
      "Processing Record 34 of Set 1 : puerto ayora\n",
      "Processing Record 35 of Set 1 : gizo\n",
      "Processing Record 36 of Set 1 : saskylakh\n",
      "Processing Record 37 of Set 1 : bengkulu\n",
      "Processing Record 38 of Set 1 : pisco\n",
      "Processing Record 39 of Set 1 : qaanaaq\n",
      "Processing Record 40 of Set 1 : maldonado\n",
      "Processing Record 41 of Set 1 : port alfred\n",
      "Processing Record 42 of Set 1 : skanderborg\n",
      "Processing Record 43 of Set 1 : barrow\n",
      "Processing Record 44 of Set 1 : byron bay\n",
      "City not found. Skipping...\n",
      "Processing Record 45 of Set 1 : wagga wagga\n",
      "Processing Record 46 of Set 1 : hofn\n",
      "City not found. Skipping...\n",
      "Processing Record 47 of Set 1 : coihaique\n",
      "Processing Record 48 of Set 1 : aklavik\n",
      "Processing Record 49 of Set 1 : wahpeton\n",
      "Processing Record 50 of Set 1 : huarmey\n",
      "Processing Record 0 of Set 2 : new norfolk\n",
      "Processing Record 1 of Set 2 : llandrindod wells\n",
      "Processing Record 2 of Set 2 : mataura\n",
      "Processing Record 3 of Set 2 : mumford\n",
      "Processing Record 4 of Set 2 : smirnykh\n",
      "Processing Record 5 of Set 2 : hobart\n",
      "Processing Record 6 of Set 2 : the pas\n",
      "Processing Record 7 of Set 2 : bilibino\n",
      "Processing Record 8 of Set 2 : manadhoo\n",
      "Processing Record 9 of Set 2 : east london\n",
      "Processing Record 10 of Set 2 : port-gentil\n",
      "Processing Record 11 of Set 2 : san quintin\n",
      "Processing Record 12 of Set 2 : camapua\n",
      "Processing Record 13 of Set 2 : hermanus\n",
      "Processing Record 14 of Set 2 : esperance\n",
      "City not found. Skipping...\n",
      "Processing Record 15 of Set 2 : kodiak\n",
      "Processing Record 16 of Set 2 : faanui\n",
      "Processing Record 17 of Set 2 : nanortalik\n",
      "Processing Record 18 of Set 2 : sitka\n",
      "Processing Record 19 of Set 2 : yellowknife\n",
      "Processing Record 20 of Set 2 : barcelos\n",
      "Processing Record 21 of Set 2 : montepuez\n",
      "Processing Record 22 of Set 2 : belcesti\n",
      "Processing Record 23 of Set 2 : nanga eboko\n",
      "Processing Record 24 of Set 2 : le port\n",
      "Processing Record 25 of Set 2 : christchurch\n",
      "Processing Record 26 of Set 2 : georgetown\n",
      "Processing Record 27 of Set 2 : cherskiy\n",
      "Processing Record 28 of Set 2 : atuona\n",
      "Processing Record 29 of Set 2 : fukue\n",
      "Processing Record 30 of Set 2 : ornskoldsvik\n",
      "Processing Record 31 of Set 2 : dingle\n",
      "Processing Record 32 of Set 2 : macklin\n",
      "Processing Record 33 of Set 2 : mahebourg\n",
      "Processing Record 34 of Set 2 : grindavik\n",
      "Processing Record 35 of Set 2 : anadyr\n",
      "Processing Record 36 of Set 2 : salinas\n",
      "Processing Record 37 of Set 2 : hilo\n",
      "City not found. Skipping...\n",
      "Processing Record 38 of Set 2 : cape town\n",
      "Processing Record 39 of Set 2 : akyab\n",
      "Processing Record 40 of Set 2 : meulaboh\n",
      "Processing Record 41 of Set 2 : hithadhoo\n",
      "Processing Record 42 of Set 2 : thompson\n",
      "City not found. Skipping...\n",
      "Processing Record 43 of Set 2 : pathein\n",
      "Processing Record 44 of Set 2 : kahului\n",
      "Processing Record 45 of Set 2 : muisne\n",
      "Processing Record 46 of Set 2 : mar del plata\n",
      "Processing Record 47 of Set 2 : grand gaube\n",
      "Processing Record 48 of Set 2 : roma\n",
      "Processing Record 49 of Set 2 : aberystwyth\n",
      "Processing Record 50 of Set 2 : riyadh\n",
      "Processing Record 0 of Set 3 : naze\n",
      "Processing Record 1 of Set 3 : zhezkazgan\n",
      "Processing Record 2 of Set 3 : mulege\n",
      "Processing Record 3 of Set 3 : paita\n",
      "Processing Record 4 of Set 3 : provideniya\n",
      "Processing Record 5 of Set 3 : half moon bay\n",
      "Processing Record 6 of Set 3 : hachinohe\n",
      "Processing Record 7 of Set 3 : lorengau\n",
      "Processing Record 8 of Set 3 : avarua\n",
      "Processing Record 9 of Set 3 : ukiah\n",
      "Processing Record 10 of Set 3 : maceio\n",
      "Processing Record 11 of Set 3 : high level\n",
      "Processing Record 12 of Set 3 : omboue\n",
      "Processing Record 13 of Set 3 : shenjiamen\n",
      "Processing Record 14 of Set 3 : koslan\n",
      "Processing Record 15 of Set 3 : myitkyina\n",
      "Processing Record 16 of Set 3 : yerbogachen\n",
      "Processing Record 17 of Set 3 : butaritari\n",
      "Processing Record 18 of Set 3 : buraydah\n",
      "Processing Record 19 of Set 3 : sioux lookout\n",
      "Processing Record 20 of Set 3 : voi\n",
      "City not found. Skipping...\n",
      "Processing Record 21 of Set 3 : jamestown\n",
      "Processing Record 22 of Set 3 : yegorlykskaya\n",
      "Processing Record 23 of Set 3 : vila velha\n",
      "Processing Record 24 of Set 3 : geraldton\n",
      "Processing Record 25 of Set 3 : pangnirtung\n",
      "Processing Record 26 of Set 3 : samarai\n",
      "City not found. Skipping...\n",
      "Processing Record 27 of Set 3 : turukhansk\n",
      "Processing Record 28 of Set 3 : vardo\n",
      "Processing Record 29 of Set 3 : saint george\n",
      "Processing Record 30 of Set 3 : blagoyevo\n",
      "City not found. Skipping...\n",
      "Processing Record 31 of Set 3 : lompoc\n",
      "Processing Record 32 of Set 3 : yeppoon\n",
      "Processing Record 33 of Set 3 : villa bruzual\n",
      "Processing Record 34 of Set 3 : zhigansk\n",
      "Processing Record 35 of Set 3 : rovinj\n",
      "Processing Record 36 of Set 3 : tuatapere\n",
      "Processing Record 37 of Set 3 : itarema\n",
      "Processing Record 38 of Set 3 : saint-philippe\n",
      "Processing Record 39 of Set 3 : liverpool\n",
      "Processing Record 40 of Set 3 : muros\n",
      "Processing Record 41 of Set 3 : ribeira grande\n",
      "Processing Record 42 of Set 3 : jacareacanga\n",
      "Processing Record 43 of Set 3 : torbay\n",
      "Processing Record 44 of Set 3 : na wa\n",
      "Processing Record 45 of Set 3 : ngunguru\n",
      "City not found. Skipping...\n",
      "Processing Record 46 of Set 3 : multai\n",
      "Processing Record 47 of Set 3 : cidreira\n",
      "Processing Record 48 of Set 3 : porto walter\n",
      "Processing Record 49 of Set 3 : lixourion\n",
      "Processing Record 50 of Set 3 : lagoa\n",
      "Processing Record 0 of Set 4 : wajima\n",
      "Processing Record 1 of Set 4 : tasiilaq\n",
      "Processing Record 2 of Set 4 : deer lake\n",
      "Processing Record 3 of Set 4 : turayf\n",
      "Processing Record 4 of Set 4 : port macquarie\n",
      "Processing Record 5 of Set 4 : beringovskiy\n",
      "Processing Record 6 of Set 4 : klaksvik\n",
      "Processing Record 7 of Set 4 : chambery\n",
      "Processing Record 8 of Set 4 : mecca\n",
      "Processing Record 9 of Set 4 : dudinka\n",
      "Processing Record 10 of Set 4 : komsomolskiy\n",
      "Processing Record 11 of Set 4 : bethel\n",
      "City not found. Skipping...\n",
      "Processing Record 12 of Set 4 : pundaguitan\n",
      "Processing Record 13 of Set 4 : sao joao da barra\n",
      "City not found. Skipping...\n",
      "Processing Record 14 of Set 4 : klyuchi\n",
      "Processing Record 15 of Set 4 : novyy urengoy\n",
      "Processing Record 16 of Set 4 : castro\n",
      "Processing Record 17 of Set 4 : lebu\n",
      "Processing Record 18 of Set 4 : maua\n",
      "Processing Record 19 of Set 4 : bowen\n",
      "Processing Record 20 of Set 4 : constitucion\n",
      "City not found. Skipping...\n",
      "Processing Record 21 of Set 4 : rozhdestveno\n",
      "Processing Record 22 of Set 4 : lasa\n",
      "Processing Record 23 of Set 4 : jacksonville beach\n",
      "Processing Record 24 of Set 4 : colac\n",
      "Processing Record 25 of Set 4 : nantucket\n",
      "Processing Record 26 of Set 4 : kattivakkam\n",
      "Processing Record 27 of Set 4 : sao filipe\n",
      "Processing Record 28 of Set 4 : baguanos\n",
      "Processing Record 29 of Set 4 : aktash\n",
      "Processing Record 30 of Set 4 : shenzhen\n",
      "Processing Record 31 of Set 4 : nagapattinam\n",
      "Processing Record 32 of Set 4 : kavaratti\n",
      "Processing Record 33 of Set 4 : bida\n",
      "Processing Record 34 of Set 4 : nizip\n",
      "Processing Record 35 of Set 4 : baglan\n"
     ]
    },
    {
     "name": "stdout",
     "output_type": "stream",
     "text": [
      "Processing Record 36 of Set 4 : te anau\n",
      "Processing Record 37 of Set 4 : usogorsk\n",
      "Processing Record 38 of Set 4 : beira\n",
      "Processing Record 39 of Set 4 : buala\n",
      "Processing Record 40 of Set 4 : appleton\n",
      "Processing Record 41 of Set 4 : markova\n",
      "Processing Record 42 of Set 4 : bambous virieux\n",
      "City not found. Skipping...\n",
      "Processing Record 43 of Set 4 : auki\n",
      "Processing Record 44 of Set 4 : sangar\n",
      "Processing Record 45 of Set 4 : coquimbo\n",
      "Processing Record 46 of Set 4 : longyearbyen\n",
      "Processing Record 47 of Set 4 : cesis\n",
      "Processing Record 48 of Set 4 : kavieng\n",
      "Processing Record 49 of Set 4 : pahrump\n",
      "Processing Record 50 of Set 4 : micheweni\n",
      "Processing Record 0 of Set 5 : olot\n",
      "Processing Record 1 of Set 5 : nikolskoye\n",
      "Processing Record 2 of Set 5 : krasnoselkup\n",
      "Processing Record 3 of Set 5 : kabala\n",
      "Processing Record 4 of Set 5 : partyzany\n",
      "City not found. Skipping...\n",
      "Processing Record 5 of Set 5 : vila franca do campo\n",
      "Processing Record 6 of Set 5 : xingtai\n",
      "Processing Record 7 of Set 5 : bagacay\n",
      "Processing Record 8 of Set 5 : oum hadjer\n",
      "Processing Record 9 of Set 5 : waingapu\n",
      "Processing Record 10 of Set 5 : arraial do cabo\n",
      "Processing Record 11 of Set 5 : vaini\n",
      "Processing Record 12 of Set 5 : tygda\n",
      "Processing Record 13 of Set 5 : hualmay\n",
      "Processing Record 14 of Set 5 : taft\n",
      "Processing Record 15 of Set 5 : pacific grove\n",
      "Processing Record 16 of Set 5 : sarkand\n",
      "Processing Record 17 of Set 5 : along\n",
      "Processing Record 18 of Set 5 : umm lajj\n",
      "Processing Record 19 of Set 5 : bilma\n",
      "Processing Record 20 of Set 5 : airai\n",
      "Processing Record 21 of Set 5 : chabahar\n",
      "Processing Record 22 of Set 5 : saldanha\n",
      "Processing Record 23 of Set 5 : rudnya\n",
      "Processing Record 24 of Set 5 : nanton\n",
      "City not found. Skipping...\n",
      "Processing Record 25 of Set 5 : coahuayana\n",
      "Processing Record 26 of Set 5 : mackay\n",
      "Processing Record 27 of Set 5 : tondano\n",
      "Processing Record 28 of Set 5 : sulangan\n",
      "Processing Record 29 of Set 5 : cacapava do sul\n",
      "Processing Record 30 of Set 5 : sola\n",
      "Processing Record 31 of Set 5 : chapais\n",
      "Processing Record 32 of Set 5 : timmins\n",
      "Processing Record 33 of Set 5 : lichinga\n",
      "Processing Record 34 of Set 5 : los llanos de aridane\n",
      "Processing Record 35 of Set 5 : miyako\n",
      "Processing Record 36 of Set 5 : amahai\n",
      "Processing Record 37 of Set 5 : gunjur\n",
      "Processing Record 38 of Set 5 : mizdah\n",
      "Processing Record 39 of Set 5 : rio grande\n",
      "City not found. Skipping...\n",
      "Processing Record 40 of Set 5 : waitati\n",
      "Processing Record 41 of Set 5 : hammerfest\n",
      "City not found. Skipping...\n",
      "Processing Record 42 of Set 5 : san rafael\n",
      "Processing Record 43 of Set 5 : teya\n",
      "Processing Record 44 of Set 5 : caravelas\n",
      "Processing Record 45 of Set 5 : iqaluit\n",
      "Processing Record 46 of Set 5 : hamilton\n",
      "Processing Record 47 of Set 5 : mount isa\n",
      "Processing Record 48 of Set 5 : luderitz\n",
      "Processing Record 49 of Set 5 : bubaque\n",
      "Processing Record 50 of Set 5 : saint-francois\n",
      "Processing Record 0 of Set 6 : port augusta\n",
      "Processing Record 1 of Set 6 : guerrero negro\n",
      "Processing Record 2 of Set 6 : nuuk\n",
      "Processing Record 3 of Set 6 : fortuna\n",
      "Processing Record 4 of Set 6 : bereda\n",
      "Processing Record 5 of Set 6 : manzhouli\n",
      "Processing Record 6 of Set 6 : la seyne-sur-mer\n",
      "Processing Record 7 of Set 6 : sambava\n",
      "Processing Record 8 of Set 6 : mancio lima\n",
      "Processing Record 9 of Set 6 : kijang\n",
      "Processing Record 10 of Set 6 : mnogovershinnyy\n",
      "Processing Record 11 of Set 6 : arandis\n",
      "Processing Record 12 of Set 6 : tagusao\n",
      "Processing Record 13 of Set 6 : celestun\n",
      "Processing Record 14 of Set 6 : moundsville\n",
      "Processing Record 15 of Set 6 : nome\n",
      "Processing Record 16 of Set 6 : presque isle\n",
      "Processing Record 17 of Set 6 : ushtobe\n",
      "Processing Record 18 of Set 6 : marsh harbour\n",
      "City not found. Skipping...\n",
      "Processing Record 19 of Set 6 : pascagoula\n",
      "Processing Record 20 of Set 6 : alta floresta\n",
      "Processing Record 21 of Set 6 : vestmannaeyjar\n",
      "Processing Record 22 of Set 6 : olafsvik\n",
      "Processing Record 23 of Set 6 : hasaki\n",
      "Processing Record 24 of Set 6 : marawi\n",
      "City not found. Skipping...\n",
      "Processing Record 25 of Set 6 : port hedland\n",
      "Processing Record 26 of Set 6 : ilulissat\n",
      "Processing Record 27 of Set 6 : upata\n",
      "Processing Record 28 of Set 6 : clyde river\n",
      "Processing Record 29 of Set 6 : cayenne\n",
      "Processing Record 30 of Set 6 : pangody\n",
      "Processing Record 31 of Set 6 : cordoba\n",
      "City not found. Skipping...\n",
      "Processing Record 32 of Set 6 : petropavlovsk-kamchatskiy\n",
      "Processing Record 33 of Set 6 : berlevag\n",
      "Processing Record 34 of Set 6 : nelson bay\n",
      "Processing Record 35 of Set 6 : puerto plata\n",
      "Processing Record 36 of Set 6 : hearst\n",
      "Processing Record 37 of Set 6 : pevek\n",
      "City not found. Skipping...\n",
      "Processing Record 38 of Set 6 : bardiyah\n",
      "Processing Record 39 of Set 6 : pedasi\n",
      "Processing Record 40 of Set 6 : kandiari\n",
      "Processing Record 41 of Set 6 : brae\n",
      "Processing Record 42 of Set 6 : fort nelson\n",
      "Processing Record 43 of Set 6 : touros\n",
      "Processing Record 44 of Set 6 : tautira\n",
      "City not found. Skipping...\n",
      "Processing Record 45 of Set 6 : tiksi\n",
      "Processing Record 46 of Set 6 : nishihara\n",
      "Processing Record 47 of Set 6 : husavik\n",
      "Processing Record 48 of Set 6 : khatanga\n",
      "Processing Record 49 of Set 6 : hervey bay\n",
      "Processing Record 50 of Set 6 : atambua\n",
      "Processing Record 0 of Set 7 : laon\n",
      "Processing Record 1 of Set 7 : alenquer\n",
      "Processing Record 2 of Set 7 : quatre cocos\n",
      "City not found. Skipping...\n",
      "Processing Record 3 of Set 7 : vao\n",
      "Processing Record 4 of Set 7 : guilin\n",
      "Processing Record 5 of Set 7 : nago\n",
      "Processing Record 6 of Set 7 : kisangani\n",
      "Processing Record 7 of Set 7 : garissa\n",
      "Processing Record 8 of Set 7 : avera\n",
      "Processing Record 9 of Set 7 : pyapon\n",
      "Processing Record 10 of Set 7 : ca mau\n",
      "Processing Record 11 of Set 7 : yinchuan\n",
      "Processing Record 12 of Set 7 : samaipata\n",
      "Processing Record 13 of Set 7 : athabasca\n",
      "Processing Record 14 of Set 7 : baykit\n",
      "Processing Record 15 of Set 7 : kawalu\n",
      "Processing Record 16 of Set 7 : bonavista\n",
      "Processing Record 17 of Set 7 : kostomuksha\n",
      "Processing Record 18 of Set 7 : yulara\n",
      "Processing Record 19 of Set 7 : katsuura\n",
      "Processing Record 20 of Set 7 : lima\n",
      "Processing Record 21 of Set 7 : sabha\n",
      "Processing Record 22 of Set 7 : carnarvon\n",
      "Processing Record 23 of Set 7 : olenino\n",
      "City not found. Skipping...\n",
      "Processing Record 24 of Set 7 : iranshahr\n",
      "Processing Record 25 of Set 7 : lichuan\n",
      "Processing Record 26 of Set 7 : olinda\n",
      "City not found. Skipping...\n",
      "Processing Record 27 of Set 7 : severo-kurilsk\n",
      "Processing Record 28 of Set 7 : tarauaca\n",
      "Processing Record 29 of Set 7 : carutapera\n",
      "Processing Record 30 of Set 7 : puerto del rosario\n",
      "City not found. Skipping...\n",
      "Processing Record 31 of Set 7 : harper\n",
      "Processing Record 32 of Set 7 : campbell river\n",
      "Processing Record 33 of Set 7 : pljevlja\n",
      "Processing Record 34 of Set 7 : umea\n",
      "Processing Record 35 of Set 7 : sabang\n",
      "Processing Record 36 of Set 7 : altay\n",
      "Processing Record 37 of Set 7 : mount gambier\n",
      "Processing Record 38 of Set 7 : okhotsk\n",
      "Processing Record 39 of Set 7 : gejiu\n",
      "Processing Record 40 of Set 7 : ridgecrest\n",
      "Processing Record 41 of Set 7 : dwarka\n",
      "City not found. Skipping...\n",
      "Processing Record 42 of Set 7 : lac du bonnet\n",
      "Processing Record 43 of Set 7 : svrljig\n",
      "Processing Record 44 of Set 7 : kenai\n",
      "Processing Record 45 of Set 7 : broome\n",
      "Processing Record 46 of Set 7 : thayetmyo\n",
      "Processing Record 47 of Set 7 : peddapuram\n",
      "Processing Record 48 of Set 7 : sal rei\n",
      "Processing Record 49 of Set 7 : ahipara\n",
      "Processing Record 50 of Set 7 : isangel\n",
      "Processing Record 0 of Set 8 : port elizabeth\n",
      "Processing Record 1 of Set 8 : teknaf\n",
      "Processing Record 2 of Set 8 : atar\n",
      "Processing Record 3 of Set 8 : morros\n",
      "Processing Record 4 of Set 8 : champerico\n",
      "Processing Record 5 of Set 8 : malartic\n",
      "Processing Record 6 of Set 8 : villa union\n",
      "Processing Record 7 of Set 8 : damavand\n",
      "Processing Record 8 of Set 8 : khartoum\n",
      "Processing Record 9 of Set 8 : krynychky\n",
      "Processing Record 10 of Set 8 : mahajanga\n",
      "Processing Record 11 of Set 8 : shimoda\n",
      "Processing Record 12 of Set 8 : linhares\n",
      "Processing Record 13 of Set 8 : vostok\n",
      "Processing Record 14 of Set 8 : wenling\n",
      "Processing Record 15 of Set 8 : the valley\n",
      "Processing Record 16 of Set 8 : moussoro\n",
      "Processing Record 17 of Set 8 : lata\n",
      "Processing Record 18 of Set 8 : sjovegan\n",
      "Processing Record 19 of Set 8 : kravare\n",
      "Processing Record 20 of Set 8 : alcudia\n",
      "Processing Record 21 of Set 8 : swan hill\n",
      "Processing Record 22 of Set 8 : alofi\n"
     ]
    },
    {
     "name": "stdout",
     "output_type": "stream",
     "text": [
      "Processing Record 23 of Set 8 : mojoagung\n",
      "Processing Record 24 of Set 8 : cabedelo\n",
      "Processing Record 25 of Set 8 : narsaq\n",
      "Processing Record 26 of Set 8 : chiredzi\n",
      "Processing Record 27 of Set 8 : laguna\n",
      "Processing Record 28 of Set 8 : dawlatabad\n",
      "Processing Record 29 of Set 8 : den helder\n",
      "Processing Record 30 of Set 8 : ipixuna\n",
      "Processing Record 31 of Set 8 : taperoa\n",
      "Processing Record 32 of Set 8 : nouadhibou\n",
      "City not found. Skipping...\n",
      "Processing Record 33 of Set 8 : kendari\n",
      "Processing Record 34 of Set 8 : alexander city\n",
      "Processing Record 35 of Set 8 : mana\n",
      "Processing Record 36 of Set 8 : qiqihar\n",
      "Processing Record 37 of Set 8 : leh\n",
      "Processing Record 38 of Set 8 : sao jose da coroa grande\n",
      "Processing Record 39 of Set 8 : qurayyat\n",
      "Processing Record 40 of Set 8 : havelock\n",
      "Processing Record 41 of Set 8 : bundaberg\n",
      "Processing Record 42 of Set 8 : izumo\n",
      "Processing Record 43 of Set 8 : xingcheng\n",
      "Processing Record 44 of Set 8 : alamosa\n",
      "Processing Record 45 of Set 8 : rangapara\n",
      "Processing Record 46 of Set 8 : pacasmayo\n",
      "City not found. Skipping...\n",
      "Processing Record 47 of Set 8 : sidmouth\n",
      "Processing Record 48 of Set 8 : luan\n",
      "Processing Record 49 of Set 8 : lavrentiya\n",
      "Processing Record 50 of Set 8 : mildmay\n",
      "Processing Record 0 of Set 9 : mahibadhoo\n",
      "Processing Record 1 of Set 9 : maniitsoq\n",
      "Processing Record 2 of Set 9 : shizuishan\n",
      "City not found. Skipping...\n",
      "Processing Record 3 of Set 9 : kruisfontein\n",
      "Processing Record 4 of Set 9 : san cristobal\n",
      "Processing Record 5 of Set 9 : port lincoln\n",
      "Processing Record 6 of Set 9 : thaba-tseka\n",
      "Processing Record 7 of Set 9 : porto novo\n",
      "Processing Record 8 of Set 9 : broken hill\n",
      "Processing Record 9 of Set 9 : malanje\n",
      "Processing Record 10 of Set 9 : ponta delgada\n",
      "Processing Record 11 of Set 9 : waw\n",
      "Processing Record 12 of Set 9 : odessa\n",
      "City not found. Skipping...\n",
      "Processing Record 13 of Set 9 : kingman\n",
      "Processing Record 14 of Set 9 : khani\n",
      "Processing Record 15 of Set 9 : puerto leguizamo\n",
      "City not found. Skipping...\n",
      "Processing Record 16 of Set 9 : vinstra\n",
      "Processing Record 17 of Set 9 : moose factory\n",
      "Processing Record 18 of Set 9 : san esteban\n",
      "Processing Record 19 of Set 9 : aripuana\n",
      "Processing Record 20 of Set 9 : petrila\n",
      "Processing Record 21 of Set 9 : anori\n",
      "Processing Record 22 of Set 9 : san ignacio\n",
      "Processing Record 23 of Set 9 : javanrud\n",
      "City not found. Skipping...\n",
      "Processing Record 24 of Set 9 : lomovka\n",
      "Processing Record 25 of Set 9 : ancud\n",
      "Processing Record 26 of Set 9 : necochea\n",
      "Processing Record 27 of Set 9 : toyooka\n",
      "Processing Record 28 of Set 9 : labuhan\n",
      "Processing Record 29 of Set 9 : udachnyy\n",
      "Processing Record 30 of Set 9 : rapid city\n",
      "Processing Record 31 of Set 9 : chokurdakh\n",
      "City not found. Skipping...\n",
      "Processing Record 32 of Set 9 : tokat\n",
      "Processing Record 33 of Set 9 : korla\n",
      "Processing Record 34 of Set 9 : harlingen\n",
      "Processing Record 35 of Set 9 : ocampo\n",
      "Processing Record 36 of Set 9 : aviles\n",
      "Processing Record 37 of Set 9 : brookhaven\n",
      "Processing Record 38 of Set 9 : saint anthony\n",
      "Processing Record 39 of Set 9 : rawson\n",
      "Processing Record 40 of Set 9 : sagua de tanamo\n",
      "Processing Record 41 of Set 9 : edgewater\n",
      "Processing Record 42 of Set 9 : erenhot\n",
      "Processing Record 43 of Set 9 : vilhena\n",
      "City not found. Skipping...\n",
      "City not found. Skipping...\n",
      "Processing Record 44 of Set 9 : boyolangu\n",
      "Processing Record 45 of Set 9 : winnemucca\n",
      "Processing Record 46 of Set 9 : kaspiyskiy\n",
      "City not found. Skipping...\n",
      "Processing Record 47 of Set 9 : giporlos\n",
      "Processing Record 48 of Set 9 : yar-sale\n",
      "Processing Record 49 of Set 9 : luwuk\n",
      "Processing Record 50 of Set 9 : bandarbeyla\n",
      "Processing Record 0 of Set 10 : skibbereen\n",
      "Processing Record 1 of Set 10 : acapulco\n",
      "Processing Record 2 of Set 10 : manta\n",
      "Processing Record 3 of Set 10 : florianopolis\n",
      "Processing Record 4 of Set 10 : albania\n",
      "Processing Record 5 of Set 10 : oktyabrskiy\n",
      "Processing Record 6 of Set 10 : masunga\n",
      "Processing Record 7 of Set 10 : pandan\n",
      "Processing Record 8 of Set 10 : roebourne\n",
      "Processing Record 9 of Set 10 : fairbanks\n",
      "Processing Record 10 of Set 10 : amapa\n",
      "Processing Record 11 of Set 10 : inta\n",
      "Processing Record 12 of Set 10 : castrillon\n",
      "Processing Record 13 of Set 10 : verkhoyansk\n",
      "Processing Record 14 of Set 10 : sorland\n",
      "Processing Record 15 of Set 10 : atbasar\n",
      "Processing Record 16 of Set 10 : boa vista\n",
      "Processing Record 17 of Set 10 : miandrivazo\n",
      "Processing Record 18 of Set 10 : urk\n",
      "Processing Record 19 of Set 10 : rechitsy\n",
      "Processing Record 20 of Set 10 : bom jardim\n",
      "Processing Record 21 of Set 10 : norman wells\n",
      "Processing Record 22 of Set 10 : alakurtti\n",
      "Processing Record 23 of Set 10 : casablanca\n",
      "Processing Record 24 of Set 10 : mantua\n",
      "Processing Record 25 of Set 10 : raga\n",
      "Processing Record 26 of Set 10 : aksarka\n",
      "Processing Record 27 of Set 10 : havre-saint-pierre\n",
      "Processing Record 28 of Set 10 : kainantu\n",
      "Processing Record 29 of Set 10 : mandal\n",
      "Processing Record 30 of Set 10 : shelburne\n",
      "Processing Record 31 of Set 10 : saint-joseph\n",
      "Processing Record 32 of Set 10 : marrakesh\n",
      "Processing Record 33 of Set 10 : adrar\n",
      "Processing Record 34 of Set 10 : shuyskoye\n",
      "Processing Record 35 of Set 10 : ahuimanu\n",
      "Processing Record 36 of Set 10 : geilo\n",
      "Processing Record 37 of Set 10 : leningradskiy\n",
      "Processing Record 38 of Set 10 : northam\n",
      "Processing Record 39 of Set 10 : adelaide\n",
      "Processing Record 40 of Set 10 : severodvinsk\n",
      "Processing Record 41 of Set 10 : chuy\n",
      "Processing Record 42 of Set 10 : bridlington\n",
      "Processing Record 43 of Set 10 : temple\n",
      "Processing Record 44 of Set 10 : tjome\n",
      "Processing Record 45 of Set 10 : aykhal\n",
      "Processing Record 46 of Set 10 : xuanzhou\n",
      "Processing Record 47 of Set 10 : sidi ali\n",
      "Processing Record 48 of Set 10 : miracatu\n",
      "Processing Record 49 of Set 10 : oksfjord\n",
      "City not found. Skipping...\n",
      "Processing Record 50 of Set 10 : eyl\n",
      "Processing Record 0 of Set 11 : jalu\n",
      "Processing Record 1 of Set 11 : buchanan\n",
      "Processing Record 2 of Set 11 : siddhapur\n",
      "Processing Record 3 of Set 11 : norwalk\n",
      "Processing Record 4 of Set 11 : baruun-urt\n",
      "Processing Record 5 of Set 11 : weihai\n",
      "City not found. Skipping...\n",
      "Processing Record 6 of Set 11 : utete\n",
      "City not found. Skipping...\n",
      "Processing Record 7 of Set 11 : poso\n",
      "Processing Record 8 of Set 11 : tete\n",
      "Processing Record 9 of Set 11 : bandundu\n",
      "Processing Record 10 of Set 11 : praia\n",
      "Processing Record 11 of Set 11 : saint-pierre\n",
      "Processing Record 12 of Set 11 : biak\n",
      "Processing Record 13 of Set 11 : zhanaozen\n",
      "Processing Record 14 of Set 11 : faya\n",
      "Processing Record 15 of Set 11 : victoria\n",
      "City not found. Skipping...\n",
      "Processing Record 16 of Set 11 : siva\n",
      "Processing Record 17 of Set 11 : tahe\n",
      "Processing Record 18 of Set 11 : gravdal\n",
      "Processing Record 19 of Set 11 : joensuu\n",
      "Processing Record 20 of Set 11 : khandyga\n",
      "Processing Record 21 of Set 11 : bedford\n",
      "Processing Record 22 of Set 11 : souillac\n",
      "Processing Record 23 of Set 11 : altamira\n",
      "Processing Record 24 of Set 11 : salta\n",
      "Processing Record 25 of Set 11 : margate\n",
      "Processing Record 26 of Set 11 : santa fe\n",
      "Processing Record 27 of Set 11 : navahrudak\n",
      "Processing Record 28 of Set 11 : knyaginino\n",
      "Processing Record 29 of Set 11 : luganville\n",
      "Processing Record 30 of Set 11 : beloha\n",
      "Processing Record 31 of Set 11 : palas\n",
      "Processing Record 32 of Set 11 : chifeng\n",
      "Processing Record 33 of Set 11 : troitskoye\n",
      "Processing Record 34 of Set 11 : katobu\n",
      "Processing Record 35 of Set 11 : veraval\n",
      "Processing Record 36 of Set 11 : tamandare\n",
      "Processing Record 37 of Set 11 : abu samrah\n",
      "City not found. Skipping...\n",
      "City not found. Skipping...\n",
      "City not found. Skipping...\n",
      "Processing Record 38 of Set 11 : kushiro\n",
      "Processing Record 39 of Set 11 : wellington\n",
      "Processing Record 40 of Set 11 : yelanskiy\n",
      "Processing Record 41 of Set 11 : sao felix do xingu\n",
      "Processing Record 42 of Set 11 : raudeberg\n",
      "Processing Record 43 of Set 11 : bannu\n",
      "Processing Record 44 of Set 11 : ketchikan\n",
      "Processing Record 45 of Set 11 : westport\n",
      "Processing Record 46 of Set 11 : najran\n",
      "Processing Record 47 of Set 11 : inhambane\n",
      "Processing Record 48 of Set 11 : killybegs\n",
      "Processing Record 49 of Set 11 : abha\n",
      "City not found. Skipping...\n",
      "Processing Record 50 of Set 11 : ugoofaaru\n",
      "Processing Record 0 of Set 12 : angarsk\n",
      "Processing Record 1 of Set 12 : ambilobe\n",
      "Processing Record 2 of Set 12 : namibe\n",
      "Processing Record 3 of Set 12 : bridgetown\n",
      "Processing Record 4 of Set 12 : north bend\n"
     ]
    },
    {
     "name": "stdout",
     "output_type": "stream",
     "text": [
      "Processing Record 5 of Set 12 : camden\n",
      "Processing Record 6 of Set 12 : burla\n",
      "Processing Record 7 of Set 12 : benjamin hill\n",
      "Processing Record 8 of Set 12 : itoigawa\n",
      "Processing Record 9 of Set 12 : tiarei\n",
      "City not found. Skipping...\n",
      "Processing Record 10 of Set 12 : sur\n",
      "-----------------------------\n",
      "Data Retrieval Complete\n",
      "-----------------------------\n"
     ]
    }
   ],
   "source": [
    "print(\"Beginning Data Retrieval \")\n",
    "print(\"-----------------------------\")\n",
    "\n",
    "base_url = \"http://api.openweathermap.org/data/2.5/weather?\"\n",
    "units = \"imperial\"\n",
    "query_url = f\"{base_url}appid={weather_api_key}&units={units}&q=\"\n",
    "\n",
    "\n",
    "# For each city name in cities list, do below things...\n",
    "for index, city in enumerate(cities, start = 1):\n",
    "    try:\n",
    "        response = requests.get(query_url + city).json()\n",
    "        city_name_list.append(response[\"name\"])\n",
    "        cloudiness_list.append(response[\"clouds\"][\"all\"])\n",
    "        country_list.append(response[\"sys\"][\"country\"])\n",
    "        date_list.append(response[\"dt\"])\n",
    "        humidity_list.append(response[\"main\"][\"humidity\"])\n",
    "        lat_list.append(response[\"coord\"][\"lat\"])\n",
    "        lng_list.append(response[\"coord\"][\"lon\"])\n",
    "        max_temp_list.append(response['main']['temp_max'])\n",
    "        wind_speed_list.append(response[\"wind\"][\"speed\"])\n",
    "        if index_counter > 49:\n",
    "            index_counter = 0\n",
    "            set_counter = set_counter + 1\n",
    "    \n",
    "        else:\n",
    "            index_counter = index_counter + 1\n",
    "            \n",
    "        print(f\"Processing Record {index_counter} of Set {set_counter} : {city}\") \n",
    "  \n",
    "    except(KeyError, IndexError):\n",
    "        print(\"City not found. Skipping...\")\n",
    "\n",
    "print(\"-----------------------------\")\n",
    "print(\"Data Retrieval Complete\")\n",
    "print(\"-----------------------------\")"
   ]
  },
  {
   "cell_type": "markdown",
   "metadata": {},
   "source": [
    "### Convert Raw Data to DataFrame\n",
    "* Export the city data into a .csv.\n",
    "* Display the DataFrame"
   ]
  },
  {
   "cell_type": "code",
   "execution_count": 40,
   "metadata": {},
   "outputs": [],
   "source": [
    "\n",
    "# Create a panda data frame using data retrieved\n",
    "weather_dict = pd.DataFrame({ \n",
    "                \"City\" : city_name_list,\n",
    "                \"Cloudiness\" : cloudiness_list,\n",
    "                \"Country\" : country_list,\n",
    "                \"Date\" : date_list,\n",
    "                \"Humidity\" : humidity_list,\n",
    "                \"Lat\" : lat_list,\n",
    "                \"Lng\" : lng_list,\n",
    "                \"Max Temp\" : max_temp_list,\n",
    "                \"Wind Speed\" : wind_speed_list\n",
    "})"
   ]
  },
  {
   "cell_type": "code",
   "execution_count": 41,
   "metadata": {},
   "outputs": [
    {
     "data": {
      "text/plain": [
       "City          571\n",
       "Cloudiness    571\n",
       "Country       571\n",
       "Date          571\n",
       "Humidity      571\n",
       "Lat           571\n",
       "Lng           571\n",
       "Max Temp      571\n",
       "Wind Speed    571\n",
       "dtype: int64"
      ]
     },
     "execution_count": 41,
     "metadata": {},
     "output_type": "execute_result"
    }
   ],
   "source": [
    "weather_dict.count()"
   ]
  },
  {
   "cell_type": "code",
   "execution_count": 42,
   "metadata": {},
   "outputs": [
    {
     "data": {
      "text/html": [
       "<div>\n",
       "<style scoped>\n",
       "    .dataframe tbody tr th:only-of-type {\n",
       "        vertical-align: middle;\n",
       "    }\n",
       "\n",
       "    .dataframe tbody tr th {\n",
       "        vertical-align: top;\n",
       "    }\n",
       "\n",
       "    .dataframe thead th {\n",
       "        text-align: right;\n",
       "    }\n",
       "</style>\n",
       "<table border=\"1\" class=\"dataframe\">\n",
       "  <thead>\n",
       "    <tr style=\"text-align: right;\">\n",
       "      <th></th>\n",
       "      <th>City</th>\n",
       "      <th>Cloudiness</th>\n",
       "      <th>Country</th>\n",
       "      <th>Date</th>\n",
       "      <th>Humidity</th>\n",
       "      <th>Lat</th>\n",
       "      <th>Lng</th>\n",
       "      <th>Max Temp</th>\n",
       "      <th>Wind Speed</th>\n",
       "    </tr>\n",
       "  </thead>\n",
       "  <tbody>\n",
       "    <tr>\n",
       "      <th>0</th>\n",
       "      <td>Codrington</td>\n",
       "      <td>100</td>\n",
       "      <td>AU</td>\n",
       "      <td>1597776750</td>\n",
       "      <td>94</td>\n",
       "      <td>-38.27</td>\n",
       "      <td>141.97</td>\n",
       "      <td>47.17</td>\n",
       "      <td>7.94</td>\n",
       "    </tr>\n",
       "    <tr>\n",
       "      <th>1</th>\n",
       "      <td>Cabo San Lucas</td>\n",
       "      <td>75</td>\n",
       "      <td>MX</td>\n",
       "      <td>1597776750</td>\n",
       "      <td>66</td>\n",
       "      <td>22.89</td>\n",
       "      <td>-109.91</td>\n",
       "      <td>93.20</td>\n",
       "      <td>13.87</td>\n",
       "    </tr>\n",
       "    <tr>\n",
       "      <th>2</th>\n",
       "      <td>Tuktoyaktuk</td>\n",
       "      <td>75</td>\n",
       "      <td>CA</td>\n",
       "      <td>1597776750</td>\n",
       "      <td>76</td>\n",
       "      <td>69.45</td>\n",
       "      <td>-133.04</td>\n",
       "      <td>55.40</td>\n",
       "      <td>9.17</td>\n",
       "    </tr>\n",
       "    <tr>\n",
       "      <th>3</th>\n",
       "      <td>Kaitangata</td>\n",
       "      <td>100</td>\n",
       "      <td>NZ</td>\n",
       "      <td>1597776689</td>\n",
       "      <td>63</td>\n",
       "      <td>-46.28</td>\n",
       "      <td>169.85</td>\n",
       "      <td>46.99</td>\n",
       "      <td>4.18</td>\n",
       "    </tr>\n",
       "    <tr>\n",
       "      <th>4</th>\n",
       "      <td>Kudahuvadhoo</td>\n",
       "      <td>59</td>\n",
       "      <td>MV</td>\n",
       "      <td>1597776751</td>\n",
       "      <td>66</td>\n",
       "      <td>2.67</td>\n",
       "      <td>72.89</td>\n",
       "      <td>82.98</td>\n",
       "      <td>3.53</td>\n",
       "    </tr>\n",
       "    <tr>\n",
       "      <th>...</th>\n",
       "      <td>...</td>\n",
       "      <td>...</td>\n",
       "      <td>...</td>\n",
       "      <td>...</td>\n",
       "      <td>...</td>\n",
       "      <td>...</td>\n",
       "      <td>...</td>\n",
       "      <td>...</td>\n",
       "      <td>...</td>\n",
       "    </tr>\n",
       "    <tr>\n",
       "      <th>566</th>\n",
       "      <td>Burla</td>\n",
       "      <td>100</td>\n",
       "      <td>IN</td>\n",
       "      <td>1597776887</td>\n",
       "      <td>92</td>\n",
       "      <td>21.50</td>\n",
       "      <td>83.87</td>\n",
       "      <td>76.93</td>\n",
       "      <td>8.25</td>\n",
       "    </tr>\n",
       "    <tr>\n",
       "      <th>567</th>\n",
       "      <td>Benjamín Hill</td>\n",
       "      <td>0</td>\n",
       "      <td>MX</td>\n",
       "      <td>1597776887</td>\n",
       "      <td>43</td>\n",
       "      <td>30.17</td>\n",
       "      <td>-111.10</td>\n",
       "      <td>95.00</td>\n",
       "      <td>3.00</td>\n",
       "    </tr>\n",
       "    <tr>\n",
       "      <th>568</th>\n",
       "      <td>Itoigawa</td>\n",
       "      <td>99</td>\n",
       "      <td>JP</td>\n",
       "      <td>1597776888</td>\n",
       "      <td>95</td>\n",
       "      <td>37.03</td>\n",
       "      <td>137.85</td>\n",
       "      <td>73.00</td>\n",
       "      <td>3.33</td>\n",
       "    </tr>\n",
       "    <tr>\n",
       "      <th>569</th>\n",
       "      <td>Tiarei</td>\n",
       "      <td>20</td>\n",
       "      <td>PF</td>\n",
       "      <td>1597776888</td>\n",
       "      <td>65</td>\n",
       "      <td>-17.53</td>\n",
       "      <td>-149.33</td>\n",
       "      <td>80.60</td>\n",
       "      <td>4.70</td>\n",
       "    </tr>\n",
       "    <tr>\n",
       "      <th>570</th>\n",
       "      <td>Sur</td>\n",
       "      <td>100</td>\n",
       "      <td>OM</td>\n",
       "      <td>1597776850</td>\n",
       "      <td>64</td>\n",
       "      <td>22.57</td>\n",
       "      <td>59.53</td>\n",
       "      <td>86.31</td>\n",
       "      <td>14.03</td>\n",
       "    </tr>\n",
       "  </tbody>\n",
       "</table>\n",
       "<p>571 rows × 9 columns</p>\n",
       "</div>"
      ],
      "text/plain": [
       "               City  Cloudiness Country        Date  Humidity    Lat     Lng  \\\n",
       "0        Codrington         100      AU  1597776750        94 -38.27  141.97   \n",
       "1    Cabo San Lucas          75      MX  1597776750        66  22.89 -109.91   \n",
       "2       Tuktoyaktuk          75      CA  1597776750        76  69.45 -133.04   \n",
       "3        Kaitangata         100      NZ  1597776689        63 -46.28  169.85   \n",
       "4      Kudahuvadhoo          59      MV  1597776751        66   2.67   72.89   \n",
       "..              ...         ...     ...         ...       ...    ...     ...   \n",
       "566           Burla         100      IN  1597776887        92  21.50   83.87   \n",
       "567   Benjamín Hill           0      MX  1597776887        43  30.17 -111.10   \n",
       "568        Itoigawa          99      JP  1597776888        95  37.03  137.85   \n",
       "569          Tiarei          20      PF  1597776888        65 -17.53 -149.33   \n",
       "570             Sur         100      OM  1597776850        64  22.57   59.53   \n",
       "\n",
       "     Max Temp  Wind Speed  \n",
       "0       47.17        7.94  \n",
       "1       93.20       13.87  \n",
       "2       55.40        9.17  \n",
       "3       46.99        4.18  \n",
       "4       82.98        3.53  \n",
       "..        ...         ...  \n",
       "566     76.93        8.25  \n",
       "567     95.00        3.00  \n",
       "568     73.00        3.33  \n",
       "569     80.60        4.70  \n",
       "570     86.31       14.03  \n",
       "\n",
       "[571 rows x 9 columns]"
      ]
     },
     "execution_count": 42,
     "metadata": {},
     "output_type": "execute_result"
    }
   ],
   "source": [
    "weather_dict"
   ]
  },
  {
   "cell_type": "code",
   "execution_count": 6,
   "metadata": {
    "scrolled": true
   },
   "outputs": [
    {
     "data": {
      "text/html": [
       "<div>\n",
       "<style scoped>\n",
       "    .dataframe tbody tr th:only-of-type {\n",
       "        vertical-align: middle;\n",
       "    }\n",
       "\n",
       "    .dataframe tbody tr th {\n",
       "        vertical-align: top;\n",
       "    }\n",
       "\n",
       "    .dataframe thead th {\n",
       "        text-align: right;\n",
       "    }\n",
       "</style>\n",
       "<table border=\"1\" class=\"dataframe\">\n",
       "  <thead>\n",
       "    <tr style=\"text-align: right;\">\n",
       "      <th></th>\n",
       "      <th>Lat</th>\n",
       "      <th>Lng</th>\n",
       "      <th>Max Temp</th>\n",
       "      <th>Humidity</th>\n",
       "      <th>Cloudiness</th>\n",
       "      <th>Wind Speed</th>\n",
       "      <th>Date</th>\n",
       "    </tr>\n",
       "  </thead>\n",
       "  <tbody>\n",
       "    <tr>\n",
       "      <th>count</th>\n",
       "      <td>550.000000</td>\n",
       "      <td>550.000000</td>\n",
       "      <td>550.000000</td>\n",
       "      <td>550.000000</td>\n",
       "      <td>550.000000</td>\n",
       "      <td>550.000000</td>\n",
       "      <td>5.500000e+02</td>\n",
       "    </tr>\n",
       "    <tr>\n",
       "      <th>mean</th>\n",
       "      <td>19.973545</td>\n",
       "      <td>17.124400</td>\n",
       "      <td>58.331400</td>\n",
       "      <td>67.890909</td>\n",
       "      <td>52.141818</td>\n",
       "      <td>8.544800</td>\n",
       "      <td>1.585764e+09</td>\n",
       "    </tr>\n",
       "    <tr>\n",
       "      <th>std</th>\n",
       "      <td>33.284840</td>\n",
       "      <td>91.595451</td>\n",
       "      <td>25.795297</td>\n",
       "      <td>20.864881</td>\n",
       "      <td>35.766469</td>\n",
       "      <td>6.078869</td>\n",
       "      <td>5.539674e+01</td>\n",
       "    </tr>\n",
       "    <tr>\n",
       "      <th>min</th>\n",
       "      <td>-54.800000</td>\n",
       "      <td>-179.170000</td>\n",
       "      <td>-11.340000</td>\n",
       "      <td>9.000000</td>\n",
       "      <td>0.000000</td>\n",
       "      <td>0.160000</td>\n",
       "      <td>1.585764e+09</td>\n",
       "    </tr>\n",
       "    <tr>\n",
       "      <th>25%</th>\n",
       "      <td>-8.077500</td>\n",
       "      <td>-64.627500</td>\n",
       "      <td>42.800000</td>\n",
       "      <td>55.000000</td>\n",
       "      <td>20.000000</td>\n",
       "      <td>4.525000</td>\n",
       "      <td>1.585764e+09</td>\n",
       "    </tr>\n",
       "    <tr>\n",
       "      <th>50%</th>\n",
       "      <td>23.630000</td>\n",
       "      <td>19.635000</td>\n",
       "      <td>64.940000</td>\n",
       "      <td>72.000000</td>\n",
       "      <td>57.000000</td>\n",
       "      <td>7.325000</td>\n",
       "      <td>1.585764e+09</td>\n",
       "    </tr>\n",
       "    <tr>\n",
       "      <th>75%</th>\n",
       "      <td>48.672500</td>\n",
       "      <td>97.350000</td>\n",
       "      <td>78.800000</td>\n",
       "      <td>83.000000</td>\n",
       "      <td>86.750000</td>\n",
       "      <td>11.410000</td>\n",
       "      <td>1.585764e+09</td>\n",
       "    </tr>\n",
       "    <tr>\n",
       "      <th>max</th>\n",
       "      <td>78.220000</td>\n",
       "      <td>179.320000</td>\n",
       "      <td>102.200000</td>\n",
       "      <td>100.000000</td>\n",
       "      <td>100.000000</td>\n",
       "      <td>46.080000</td>\n",
       "      <td>1.585764e+09</td>\n",
       "    </tr>\n",
       "  </tbody>\n",
       "</table>\n",
       "</div>"
      ],
      "text/plain": [
       "              Lat         Lng    Max Temp    Humidity  Cloudiness  Wind Speed  \\\n",
       "count  550.000000  550.000000  550.000000  550.000000  550.000000  550.000000   \n",
       "mean    19.973545   17.124400   58.331400   67.890909   52.141818    8.544800   \n",
       "std     33.284840   91.595451   25.795297   20.864881   35.766469    6.078869   \n",
       "min    -54.800000 -179.170000  -11.340000    9.000000    0.000000    0.160000   \n",
       "25%     -8.077500  -64.627500   42.800000   55.000000   20.000000    4.525000   \n",
       "50%     23.630000   19.635000   64.940000   72.000000   57.000000    7.325000   \n",
       "75%     48.672500   97.350000   78.800000   83.000000   86.750000   11.410000   \n",
       "max     78.220000  179.320000  102.200000  100.000000  100.000000   46.080000   \n",
       "\n",
       "               Date  \n",
       "count  5.500000e+02  \n",
       "mean   1.585764e+09  \n",
       "std    5.539674e+01  \n",
       "min    1.585764e+09  \n",
       "25%    1.585764e+09  \n",
       "50%    1.585764e+09  \n",
       "75%    1.585764e+09  \n",
       "max    1.585764e+09  "
      ]
     },
     "execution_count": 6,
     "metadata": {},
     "output_type": "execute_result"
    }
   ],
   "source": []
  },
  {
   "cell_type": "code",
   "execution_count": 8,
   "metadata": {},
   "outputs": [
    {
     "data": {
      "text/html": [
       "<div>\n",
       "<style scoped>\n",
       "    .dataframe tbody tr th:only-of-type {\n",
       "        vertical-align: middle;\n",
       "    }\n",
       "\n",
       "    .dataframe tbody tr th {\n",
       "        vertical-align: top;\n",
       "    }\n",
       "\n",
       "    .dataframe thead th {\n",
       "        text-align: right;\n",
       "    }\n",
       "</style>\n",
       "<table border=\"1\" class=\"dataframe\">\n",
       "  <thead>\n",
       "    <tr style=\"text-align: right;\">\n",
       "      <th></th>\n",
       "      <th>City</th>\n",
       "      <th>Lat</th>\n",
       "      <th>Lng</th>\n",
       "      <th>Max Temp</th>\n",
       "      <th>Humidity</th>\n",
       "      <th>Cloudiness</th>\n",
       "      <th>Wind Speed</th>\n",
       "      <th>Country</th>\n",
       "      <th>Date</th>\n",
       "    </tr>\n",
       "  </thead>\n",
       "  <tbody>\n",
       "    <tr>\n",
       "      <th>0</th>\n",
       "      <td>pimentel</td>\n",
       "      <td>-6.84</td>\n",
       "      <td>-79.93</td>\n",
       "      <td>66.20</td>\n",
       "      <td>29</td>\n",
       "      <td>75</td>\n",
       "      <td>5.82</td>\n",
       "      <td>PE</td>\n",
       "      <td>1585764415</td>\n",
       "    </tr>\n",
       "    <tr>\n",
       "      <th>1</th>\n",
       "      <td>victoria</td>\n",
       "      <td>22.29</td>\n",
       "      <td>114.16</td>\n",
       "      <td>69.01</td>\n",
       "      <td>88</td>\n",
       "      <td>40</td>\n",
       "      <td>18.34</td>\n",
       "      <td>HK</td>\n",
       "      <td>1585764288</td>\n",
       "    </tr>\n",
       "    <tr>\n",
       "      <th>2</th>\n",
       "      <td>padang</td>\n",
       "      <td>-0.95</td>\n",
       "      <td>100.35</td>\n",
       "      <td>79.90</td>\n",
       "      <td>75</td>\n",
       "      <td>99</td>\n",
       "      <td>1.63</td>\n",
       "      <td>ID</td>\n",
       "      <td>1585764115</td>\n",
       "    </tr>\n",
       "    <tr>\n",
       "      <th>3</th>\n",
       "      <td>hasaki</td>\n",
       "      <td>35.73</td>\n",
       "      <td>140.83</td>\n",
       "      <td>55.00</td>\n",
       "      <td>100</td>\n",
       "      <td>75</td>\n",
       "      <td>4.70</td>\n",
       "      <td>JP</td>\n",
       "      <td>1585764415</td>\n",
       "    </tr>\n",
       "    <tr>\n",
       "      <th>4</th>\n",
       "      <td>kahului</td>\n",
       "      <td>20.89</td>\n",
       "      <td>-156.47</td>\n",
       "      <td>70.00</td>\n",
       "      <td>88</td>\n",
       "      <td>1</td>\n",
       "      <td>7.63</td>\n",
       "      <td>US</td>\n",
       "      <td>1585764415</td>\n",
       "    </tr>\n",
       "  </tbody>\n",
       "</table>\n",
       "</div>"
      ],
      "text/plain": [
       "       City    Lat     Lng  Max Temp  Humidity  Cloudiness  Wind Speed  \\\n",
       "0  pimentel  -6.84  -79.93     66.20        29          75        5.82   \n",
       "1  victoria  22.29  114.16     69.01        88          40       18.34   \n",
       "2    padang  -0.95  100.35     79.90        75          99        1.63   \n",
       "3    hasaki  35.73  140.83     55.00       100          75        4.70   \n",
       "4   kahului  20.89 -156.47     70.00        88           1        7.63   \n",
       "\n",
       "  Country        Date  \n",
       "0      PE  1585764415  \n",
       "1      HK  1585764288  \n",
       "2      ID  1585764115  \n",
       "3      JP  1585764415  \n",
       "4      US  1585764415  "
      ]
     },
     "execution_count": 8,
     "metadata": {},
     "output_type": "execute_result"
    }
   ],
   "source": [
    "# Make a new DataFrame equal to the city data to drop all humidity outliers by index.\n",
    "# Passing \"inplace=False\" will make a copy of the city_data DataFrame, which we call \"clean_city_data\".\n"
   ]
  },
  {
   "cell_type": "code",
   "execution_count": 9,
   "metadata": {},
   "outputs": [],
   "source": [
    "# Extract relevant fields from the data frame\n",
    "\n",
    "\n",
    "# Export the City_Data into a csv\n"
   ]
  },
  {
   "cell_type": "markdown",
   "metadata": {},
   "source": [
    "## Plotting the Data\n",
    "* Use proper labeling of the plots using plot titles (including date of analysis) and axes labels.\n",
    "* Save the plotted figures as .pngs."
   ]
  },
  {
   "cell_type": "markdown",
   "metadata": {},
   "source": [
    "## Latitude vs. Temperature Plot"
   ]
  },
  {
   "cell_type": "code",
   "execution_count": 48,
   "metadata": {
    "scrolled": true
   },
   "outputs": [
    {
     "data": {
      "image/png": "[encoded data removed]",
      "text/plain": [
       "<Figure size 432x288 with 1 Axes>"
      ]
     },
     "metadata": {
      "needs_background": "light"
     },
     "output_type": "display_data"
    }
   ],
   "source": [
    "#scatter plot\n",
    "plt.scatter(weather_dict[\"Lat\"], weather_dict[\"Max Temp\"], facecolor = \"blue\", edgecolor = \"black\")\n",
    "\n",
    "#title\n",
    "plt.title(\"City Latitude vs. Max Temperature (08/18/20)\")\n",
    "\n",
    "#set x axis label\n",
    "plt.xlabel(\"Latitude\")\n",
    "\n",
    "#set y axis label\n",
    "plt.ylabel(\"Max Temperature (F)\")\n",
    "\n",
    "#grid line\n",
    "plt.grid(linestyle='-', linewidth=1, alpha = 0.5)\n",
    "\n",
    "#save plot as png\n",
    "plt.savefig(\"../Images/City Latitude vs Max Temperature.png\")"
   ]
  },
  {
   "cell_type": "markdown",
   "metadata": {},
   "source": [
    "Highest temperture is found at 20 latitude and as the latitude increases the temperature drop."
   ]
  },
  {
   "cell_type": "markdown",
   "metadata": {},
   "source": [
    "## Latitude vs. Humidity Plot"
   ]
  },
  {
   "cell_type": "code",
   "execution_count": 49,
   "metadata": {},
   "outputs": [
    {
     "data": {
      "image/png": "[encoded data removed]",
      "text/plain": [
       "<Figure size 432x288 with 1 Axes>"
      ]
     },
     "metadata": {
      "needs_background": "light"
     },
     "output_type": "display_data"
    }
   ],
   "source": [
    "#create scatter plot\n",
    "plt.scatter(weather_dict[\"Lat\"], weather_dict[\"Humidity\"], facecolor = \"blue\", edgecolor = \"black\")\n",
    "\n",
    "#title\n",
    "plt.title(\"City Latitude vs. Humidity (08/18/20)\")\n",
    "\n",
    "#x axis\n",
    "plt.xlabel(\"Latitude\")\n",
    "\n",
    "#y axis\n",
    "plt.ylabel(\"Humidity (%)\")\n",
    "\n",
    "#grid line\n",
    "plt.grid(linestyle='-', linewidth=1, alpha = 0.5)\n",
    "\n",
    "#save plot as .pngs\n",
    "plt.savefig(\"../Images/City Latitude vs Humidity.png\")"
   ]
  },
  {
   "cell_type": "markdown",
   "metadata": {},
   "source": [
    "Polar regions have lower humidity and as latitude gets higher, humidity gets higher in southern hemisphere."
   ]
  },
  {
   "cell_type": "markdown",
   "metadata": {},
   "source": [
    "## Latitude vs. Cloudiness Plot"
   ]
  },
  {
   "cell_type": "code",
   "execution_count": 54,
   "metadata": {},
   "outputs": [
    {
     "data": {
      "image/png": "[encoded data removed]",
      "text/plain": [
       "<Figure size 432x288 with 1 Axes>"
      ]
     },
     "metadata": {
      "needs_background": "light"
     },
     "output_type": "display_data"
    }
   ],
   "source": [
    "#scatter plot\n",
    "plt.scatter(weather_dict[\"Lat\"], weather_dict[\"Cloudiness\"], facecolor = \"blue\", edgecolor = \"black\")\n",
    "\n",
    "#title\n",
    "plt.title(\"City Latitude vs. Cloudiness (08/18/20)\")\n",
    "\n",
    "#x axis\n",
    "plt.xlabel(\"Laitude\")\n",
    "\n",
    "#y axis\n",
    "plt.ylabel(\"Cloudiness (%)\")\n",
    "\n",
    "#grid line\n",
    "plt.grid(linestyle='-', linewidth=1, alpha = 0.5)\n",
    "\n",
    "#save as png\n",
    "plt.savefig(\"../Images/City Latitude vs Cloudiness.png\")"
   ]
  },
  {
   "cell_type": "markdown",
   "metadata": {},
   "source": [
    "Cloudiness data is widely spread across the latitude."
   ]
  },
  {
   "cell_type": "markdown",
   "metadata": {},
   "source": [
    "## Latitude vs. Wind Speed Plot"
   ]
  },
  {
   "cell_type": "code",
   "execution_count": 55,
   "metadata": {},
   "outputs": [
    {
     "data": {
      "image/png": "[encoded data removed]",
      "text/plain": [
       "<Figure size 432x288 with 1 Axes>"
      ]
     },
     "metadata": {
      "needs_background": "light"
     },
     "output_type": "display_data"
    }
   ],
   "source": [
    "plt.scatter(weather_dict[\"Lat\"], weather_dict[\"Wind Speed\"], facecolor = \"blue\", edgecolor = \"black\")\n",
    "plt.title(\"City Latitude vs. Wind Speed (mph) (08/18/20)\")\n",
    "\n",
    "#x axis\n",
    "plt.xlabel(\"Laitude\")\n",
    "\n",
    "#y axis\n",
    "plt.ylabel(\"Wind Speed (%)\")\n",
    "\n",
    "#y axix limit\n",
    "plt.ylim(-2,50)\n",
    "\n",
    "#grid line\n",
    "plt.grid(linestyle='-', linewidth=1, alpha = 0.5)\n",
    "\n",
    "# Save as png\n",
    "plt.savefig(\"../Images/City Latitude vs Wind Speed (mph).png\")"
   ]
  },
  {
   "cell_type": "markdown",
   "metadata": {},
   "source": [
    "Wind speed data is widely spread across the latitude."
   ]
  },
  {
   "cell_type": "markdown",
   "metadata": {},
   "source": [
    "## Linear Regression"
   ]
  },
  {
   "cell_type": "code",
   "execution_count": 14,
   "metadata": {},
   "outputs": [],
   "source": [
    "# OPTIONAL: Create a function to create Linear Regression plots"
   ]
  },
  {
   "cell_type": "code",
   "execution_count": 57,
   "metadata": {},
   "outputs": [],
   "source": [
    "# Create Northern and Southern Hemisphere DataFrames\n",
    "northern_hemisphere = weather_dict.loc[weather_dict[\"Lat\"] >= 0]\n",
    "southern_hemisphere = weather_dict.loc[weather_dict[\"Lat\"] < 0]"
   ]
  },
  {
   "cell_type": "code",
   "execution_count": 58,
   "metadata": {},
   "outputs": [],
   "source": [
    "def linear_agression(x,y):\n",
    "    print(f\"The r-squared is : {round(st.pearsonr(x, y)[0],2)}\")\n",
    "    (slope, intercept, rvalue, pvalue, stderr) = linregress(x, y)\n",
    "    regress_values = x * slope + intercept\n",
    "    line_eq = \"y = \" + str(round(slope,2)) + \"x + \" + str(round(intercept,2))\n",
    "    plt.scatter(x, y)\n",
    "    plt.plot(x,regress_values,\"r-\")\n",
    "    return line_eq\n",
    "\n",
    "# Define a fuction for annotating\n",
    "def annotate(line_eq, a, b):\n",
    "    plt.annotate(line_eq,(a,b),fontsize=15,color=\"red\")"
   ]
  },
  {
   "cell_type": "markdown",
   "metadata": {},
   "source": [
    "####  Northern Hemisphere - Max Temp vs. Latitude Linear Regression"
   ]
  },
  {
   "cell_type": "code",
   "execution_count": 70,
   "metadata": {},
   "outputs": [
    {
     "name": "stdout",
     "output_type": "stream",
     "text": [
      "The r-squared is : -0.74\n"
     ]
    },
    {
     "data": {
      "image/png": "[encoded data removed]",
      "text/plain": [
       "<Figure size 432x288 with 1 Axes>"
      ]
     },
     "metadata": {
      "needs_background": "light"
     },
     "output_type": "display_data"
    }
   ],
   "source": [
    "#function #1\n",
    "equation = linear_agression(northern_hemisphere[\"Lat\"], northern_hemisphere[\"Max Temp\"])\n",
    "\n",
    "#function #2\n",
    "annotate(equation, 0, 0)\n",
    "\n",
    "#title\n",
    "plt.title(\"Northern Hemisphere - Max Temp vs. Latitude Linear Regression\")\n",
    "\n",
    "#x\n",
    "plt.xlabel(\"Latitude\")\n",
    "\n",
    "#y\n",
    "plt.ylabel(\"Max Temp (F)\")\n",
    "\n",
    "#save as png\n",
    "plt.savefig(\"../Images/Northern Hemisphere - Max Temp vs. Latitude Linear Regression.png\")"
   ]
  },
  {
   "cell_type": "markdown",
   "metadata": {},
   "source": [
    "There is a strong negative correlation between latitude and max temperature for nothern hemisphere. "
   ]
  },
  {
   "cell_type": "markdown",
   "metadata": {},
   "source": [
    "####  Southern Hemisphere - Max Temp vs. Latitude Linear Regression"
   ]
  },
  {
   "cell_type": "code",
   "execution_count": 69,
   "metadata": {},
   "outputs": [
    {
     "name": "stdout",
     "output_type": "stream",
     "text": [
      "The r-squared is : 0.79\n"
     ]
    },
    {
     "data": {
      "image/png": "[encoded data removed]",
      "text/plain": [
       "<Figure size 432x288 with 1 Axes>"
      ]
     },
     "metadata": {
      "needs_background": "light"
     },
     "output_type": "display_data"
    }
   ],
   "source": [
    "# function #1\n",
    "equation = linear_agression(southern_hemisphere[\"Lat\"],southern_hemisphere[\"Max Temp\"])\n",
    "\n",
    "# function #2\n",
    "annotate(equation, -30, 50)\n",
    "\n",
    "#title\n",
    "plt.title(\"Southern Hemisphere - Max Temp vs. Latitude Linear Regression\")\n",
    "\n",
    "#x\n",
    "plt.xlabel(\"Latitude\")\n",
    "\n",
    "#y\n",
    "plt.ylabel(\"Max Temp (F)\")\n",
    "\n",
    "# Save as png\n",
    "plt.savefig(\"../Images/Southern Hemisphere - Max Temp vs. Latitude Linear Regression.png\")"
   ]
  },
  {
   "cell_type": "markdown",
   "metadata": {},
   "source": [
    "There is a positive correlation between latitiude and max temperature for southern hemisphere. "
   ]
  },
  {
   "cell_type": "markdown",
   "metadata": {},
   "source": [
    "####  Northern Hemisphere - Humidity (%) vs. Latitude Linear Regression"
   ]
  },
  {
   "cell_type": "code",
   "execution_count": 68,
   "metadata": {},
   "outputs": [
    {
     "name": "stdout",
     "output_type": "stream",
     "text": [
      "The r-squared is : 0.06\n"
     ]
    },
    {
     "data": {
      "image/png": "[encoded data removed]",
      "text/plain": [
       "<Figure size 432x288 with 1 Axes>"
      ]
     },
     "metadata": {
      "needs_background": "light"
     },
     "output_type": "display_data"
    }
   ],
   "source": [
    "#function #1\n",
    "equation = linear_agression(northern_hemisphere[\"Lat\"], northern_hemisphere[\"Humidity\"])\n",
    "\n",
    "#function #2\n",
    "annotate(equation, 40, 15)\n",
    "\n",
    "#title\n",
    "plt.title(\"Northern Hemisphere - Humidity (%) vs. Latitude Linear Regression\")\n",
    "\n",
    "# x\n",
    "plt.xlabel(\"Latitude\")\n",
    "\n",
    "# y\n",
    "plt.ylabel(\"Humidity (%)\")\n",
    "\n",
    "# Save as png\n",
    "plt.savefig(\"../Images/Northern Hemisphere - Humidity (%) vs. Latitude Linear Regression.png\")"
   ]
  },
  {
   "cell_type": "markdown",
   "metadata": {},
   "source": [
    "There is a positive correlation between latitude and humidity for northern hemisphere."
   ]
  },
  {
   "cell_type": "markdown",
   "metadata": {},
   "source": [
    "####  Southern Hemisphere - Humidity (%) vs. Latitude Linear Regression"
   ]
  },
  {
   "cell_type": "code",
   "execution_count": 71,
   "metadata": {},
   "outputs": [
    {
     "name": "stdout",
     "output_type": "stream",
     "text": [
      "The r-squared is : -0.12\n"
     ]
    },
    {
     "data": {
      "image/png": "[encoded data removed]",
      "text/plain": [
       "<Figure size 432x288 with 1 Axes>"
      ]
     },
     "metadata": {
      "needs_background": "light"
     },
     "output_type": "display_data"
    }
   ],
   "source": [
    "#function #1\n",
    "equation = linear_agression(southern_hemisphere[\"Lat\"], southern_hemisphere[\"Humidity\"])\n",
    "\n",
    "#function #2\n",
    "annotate(equation, -40, 50)\n",
    "\n",
    "#title\n",
    "plt.title(\"Southern Hemisphere - Humidity (%) vs. Latitude Linear Regression\")\n",
    "\n",
    "#x\n",
    "plt.xlabel(\"Latitude\")\n",
    "\n",
    "#y\n",
    "plt.ylabel(\"Humidity (%)\")\n",
    "\n",
    "# Save as png\n",
    "plt.savefig(\"../Images/Southern Hemisphere - Humidity (%) vs. Latitude Linear Regression.png\")"
   ]
  },
  {
   "cell_type": "markdown",
   "metadata": {},
   "source": [
    "There is a positive correlation between latitude and humidity for northern hemisphere."
   ]
  },
  {
   "cell_type": "markdown",
   "metadata": {},
   "source": [
    "####  Northern Hemisphere - Cloudiness (%) vs. Latitude Linear Regression"
   ]
  },
  {
   "cell_type": "code",
   "execution_count": 76,
   "metadata": {},
   "outputs": [
    {
     "name": "stdout",
     "output_type": "stream",
     "text": [
      "The r-squared is : -0.02\n"
     ]
    },
    {
     "data": {
      "image/png": "[encoded data removed]",
      "text/plain": [
       "<Figure size 432x288 with 1 Axes>"
      ]
     },
     "metadata": {
      "needs_background": "light"
     },
     "output_type": "display_data"
    }
   ],
   "source": [
    "#function #1\n",
    "equation = linear_agression(northern_hemisphere[\"Lat\"], northern_hemisphere[\"Cloudiness\"])\n",
    "\n",
    "#function #2\n",
    "annotate(equation, 30, 40)\n",
    "\n",
    "#title\n",
    "plt.title(\"Northern Hemisphere - Cloudiness (%) vs. Latitude Linear Regression\")\n",
    "\n",
    "#x\n",
    "plt.xlabel(\"Latitude\")\n",
    "\n",
    "#y\n",
    "plt.ylabel(\"Cloudiness (%)\")\n",
    "\n",
    "# Save as png\n",
    "plt.savefig(\"../Images/Northern Hemisphere - Cloudiness (%) vs. Latitude Linear Regression.png\")"
   ]
  },
  {
   "cell_type": "markdown",
   "metadata": {},
   "source": [
    "There is a weak positive correlation between latitude and cloudiness for northern hemisphere."
   ]
  },
  {
   "cell_type": "markdown",
   "metadata": {},
   "source": [
    "####  Southern Hemisphere - Cloudiness (%) vs. Latitude Linear Regression"
   ]
  },
  {
   "cell_type": "code",
   "execution_count": 75,
   "metadata": {},
   "outputs": [
    {
     "name": "stdout",
     "output_type": "stream",
     "text": [
      "The r-squared is : -0.21\n"
     ]
    },
    {
     "data": {
      "image/png": "[encoded data removed]",
      "text/plain": [
       "<Figure size 432x288 with 1 Axes>"
      ]
     },
     "metadata": {
      "needs_background": "light"
     },
     "output_type": "display_data"
    }
   ],
   "source": [
    "#function #1\n",
    "equation = linear_agression(southern_hemisphere[\"Lat\"], southern_hemisphere[\"Cloudiness\"])\n",
    "\n",
    "#function #2\n",
    "annotate(equation, -30, 40)\n",
    "\n",
    "#title\n",
    "plt.title(\"Southern Hemisphere - Cloudiness (%) vs. Latitude Linear Regression\")\n",
    "\n",
    "#x\n",
    "plt.xlabel(\"Latitude\")\n",
    "\n",
    "#y\n",
    "plt.ylabel(\"Cloudiness (%)\")\n",
    "\n",
    "# Save as png\n",
    "plt.savefig(\"../Images/Southern Hemisphere - Cloudiness (%) vs. Latitude Linear Regression.png\")"
   ]
  },
  {
   "cell_type": "markdown",
   "metadata": {},
   "source": [
    "####  Northern Hemisphere - Wind Speed (mph) vs. Latitude Linear Regression"
   ]
  },
  {
   "cell_type": "code",
   "execution_count": 22,
   "metadata": {},
   "outputs": [
    {
     "name": "stdout",
     "output_type": "stream",
     "text": [
      "The r-squared is: 0.023371104533850804\n"
     ]
    },
    {
     "data": {
      "image/png": "[encoded data removed]",
      "text/plain": [
       "<Figure size 432x288 with 1 Axes>"
      ]
     },
     "metadata": {
      "needs_background": "light"
     },
     "output_type": "display_data"
    }
   ],
   "source": [
    "#function #1\n",
    "equation = linear_agression(northern_hemisphere[\"Lat\"], northern_hemisphere[\"Wind Speed\"])\n",
    "\n",
    "#function #2\n",
    "annotate(equation, 40, 20)\n",
    "\n",
    "#title\n",
    "plt.title(\"Northern Hemisphere - Wind Speed (mph) vs. Latitude Linear Regression\")\n",
    "\n",
    "#x\n",
    "plt.xlabel(\"Latitude\")\n",
    "\n",
    "#y\n",
    "plt.ylabel(\"Wind Speed (mph)\")\n",
    "\n",
    "# Save as png\n",
    "plt.savefig(\"../Images/Northern Hemisphere - Wind Speed vs. Latitude Linear Regression.png\")"
   ]
  },
  {
   "cell_type": "markdown",
   "metadata": {},
   "source": [
    "There is a weak positive correlation between latitude and windsoeed for northern hemisphere."
   ]
  },
  {
   "cell_type": "markdown",
   "metadata": {},
   "source": [
    "####  Southern Hemisphere - Wind Speed (mph) vs. Latitude Linear Regression"
   ]
  },
  {
   "cell_type": "code",
   "execution_count": 77,
   "metadata": {},
   "outputs": [
    {
     "name": "stdout",
     "output_type": "stream",
     "text": [
      "The r-squared is : -0.15\n"
     ]
    },
    {
     "data": {
      "image/png": "[encoded data removed]",
      "text/plain": [
       "<Figure size 432x288 with 1 Axes>"
      ]
     },
     "metadata": {
      "needs_background": "light"
     },
     "output_type": "display_data"
    }
   ],
   "source": [
    "#function #1\n",
    "equation = linear_agression(southern_hemisphere[\"Lat\"], southern_hemisphere[\"Wind Speed\"])\n",
    "\n",
    "#function #2\n",
    "annotate(equation, -30, 15)\n",
    "\n",
    "#title\n",
    "plt.title(\"Southern Hemisphere - Wind Speed (mph) vs. Latitude Linear Regression\")\n",
    "\n",
    "#x\n",
    "plt.xlabel(\"Latitude\")\n",
    "\n",
    "#y\n",
    "plt.ylabel(\"Wind Speed (mph)\")\n",
    "\n",
    "# Save the figure\n",
    "plt.savefig(\"../Images/Southern Hemisphere - Wind Speed vs. Latitude Linear Regression.png\")"
   ]
  },
  {
   "cell_type": "markdown",
   "metadata": {},
   "source": [
    "There is a weak negative correlation between latitude and wind speed for southern hemisphere."
   ]
  },
  {
   "cell_type": "code",
   "execution_count": null,
   "metadata": {},
   "outputs": [],
   "source": []
  }
 ],
 "metadata": {
  "anaconda-cloud": {},
  "kernel_info": {
   "name": "python3"
  },
  "kernelspec": {
   "display_name": "Python 3",
   "language": "python",
   "name": "python3"
  },
  "language_info": {
   "codemirror_mode": {
    "name": "ipython",
    "version": 3
   },
   "file_extension": ".py",
   "mimetype": "text/x-python",
   "name": "python",
   "nbconvert_exporter": "python",
   "pygments_lexer": "ipython3",
   "version": "3.7.6"
  },
  "latex_envs": {
   "LaTeX_envs_menu_present": true,
   "autoclose": false,
   "autocomplete": true,
   "bibliofile": "biblio.bib",
   "cite_by": "apalike",
   "current_citInitial": 1,
   "eqLabelWithNumbers": true,
   "eqNumInitial": 1,
   "hotkeys": {
    "equation": "Ctrl-E",
    "itemize": "Ctrl-I"
   },
   "labels_anchors": false,
   "latex_user_defs": false,
   "report_style_numbering": false,
   "user_envs_cfg": false
  },
  "nteract": {
   "version": "0.12.3"
  }
 },
 "nbformat": 4,
 "nbformat_minor": 2
}
